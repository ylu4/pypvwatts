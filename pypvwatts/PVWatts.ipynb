{
 "cells": [
  {
   "cell_type": "code",
   "execution_count": 20,
   "metadata": {},
   "outputs": [],
   "source": [
    "import pypvwatts"
   ]
  },
  {
   "cell_type": "code",
   "execution_count": 27,
   "metadata": {},
   "outputs": [],
   "source": [
    "api_key = 'ng2dB6JsGdFcsik5kwdgtc2rqYLVBpWi92RL5QHS'\n",
    "p = pypvwatts.PVWatts(api_key = api_key)\n",
    "results = p.request(format='json', system_capacity=4, module_type=2,\n",
    "                  losses=10, array_type=0, tilt=0, azimuth=180,\n",
    "                  address=None, lat=40.1128583, lon=-88.2279411, file_id=None, \n",
    "                  dataset='nsrdb', radius=0, timeframe='monthly', \n",
    "                  dc_ac_ratio=1.2, gcr=0.4, inv_eff=96, callback=None)"
   ]
  },
  {
   "cell_type": "code",
   "execution_count": 28,
   "metadata": {},
   "outputs": [
    {
     "data": {
      "text/plain": [
       "{'ac_monthly': [202.7830047607422,\n",
       "  262.1614074707031,\n",
       "  406.8907165527344,\n",
       "  506.1441955566406,\n",
       "  600.9353637695312,\n",
       "  650.8132934570312,\n",
       "  665.078125,\n",
       "  590.8270263671875,\n",
       "  479.1058044433594,\n",
       "  347.4422607421875,\n",
       "  217.02857971191406,\n",
       "  161.82261657714844],\n",
       " 'poa_monthly': [61.63221740722656,\n",
       "  78.07360076904297,\n",
       "  120.11642456054688,\n",
       "  150.50010681152344,\n",
       "  181.23294067382812,\n",
       "  198.0913848876953,\n",
       "  204.71461486816406,\n",
       "  180.41864013671875,\n",
       "  146.09365844726562,\n",
       "  106.010498046875,\n",
       "  66.61177062988281,\n",
       "  49.650535583496094],\n",
       " 'solrad_monthly': [1.9881360530853271,\n",
       "  2.7883429527282715,\n",
       "  3.874723434448242,\n",
       "  5.016670227050781,\n",
       "  5.846223831176758,\n",
       "  6.60304594039917,\n",
       "  6.603697299957275,\n",
       "  5.819956302642822,\n",
       "  4.869788646697998,\n",
       "  3.4196934700012207,\n",
       "  2.2203924655914307,\n",
       "  1.6016302108764648],\n",
       " 'dc_monthly': [213.9436492919922,\n",
       "  274.760986328125,\n",
       "  425.69384765625,\n",
       "  528.53857421875,\n",
       "  627.4151611328125,\n",
       "  678.8116455078125,\n",
       "  693.4940795898438,\n",
       "  616.5040283203125,\n",
       "  500.0732421875,\n",
       "  363.5805358886719,\n",
       "  228.11318969726562,\n",
       "  171.37322998046875],\n",
       " 'ac_annual': 5091.03271484375,\n",
       " 'solrad_annual': 4.221025466918945,\n",
       " 'capacity_factor': 14.529203414916992}"
      ]
     },
     "execution_count": 28,
     "metadata": {},
     "output_type": "execute_result"
    }
   ],
   "source": [
    "results.outputs"
   ]
  },
  {
   "cell_type": "code",
   "execution_count": null,
   "metadata": {},
   "outputs": [],
   "source": []
  }
 ],
 "metadata": {
  "kernelspec": {
   "display_name": "Python [conda env:gpu] *",
   "language": "python",
   "name": "conda-env-gpu-py"
  },
  "language_info": {
   "codemirror_mode": {
    "name": "ipython",
    "version": 3
   },
   "file_extension": ".py",
   "mimetype": "text/x-python",
   "name": "python",
   "nbconvert_exporter": "python",
   "pygments_lexer": "ipython3",
   "version": "3.7.5"
  }
 },
 "nbformat": 4,
 "nbformat_minor": 2
}
